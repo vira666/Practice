{
 "cells": [
  {
   "cell_type": "markdown",
   "id": "2d7a32bd",
   "metadata": {},
   "source": [
    "### Задание 1."
   ]
  },
  {
   "cell_type": "code",
   "execution_count": null,
   "id": "eaa46da2",
   "metadata": {},
   "outputs": [],
   "source": [
    "import random\n",
    "\n",
    "names = [\"пром\",\"агро\",\"торг\",\"урал\",\"север\",\"юг\",\"техно\",\n",
    "\"экспо\",\"метал\",\"нефть\",\"сельхоз\",\"фарм\",\"строй\",\n",
    "\"кредит\",\"алмаз\",\"-девелопмент\",\"развитие\",\"мос\",\n",
    "\"рос\",\"кубань\",\"сибирь\",\"восток\",\"нано\",\"софт\",\n",
    "\"микро\",\"онлайн\",\"инвест\",\"текстиль\",\"цемент\"]"
   ]
  },
  {
   "cell_type": "code",
   "execution_count": 4,
   "id": "cbd734cf",
   "metadata": {},
   "outputs": [],
   "source": [
    "def random_company():\n",
    "  x=random.sample(names, 6)\n",
    "  random_string='-'.join(x)\n",
    "  random_string1=random_string.capitalize()\n",
    "  return random_string1"
   ]
  },
  {
   "cell_type": "code",
   "execution_count": 5,
   "id": "d6bb20fa",
   "metadata": {},
   "outputs": [
    {
     "data": {
      "text/plain": [
       "'Развитие-сельхоз-мос-техно-кредит-нано'"
      ]
     },
     "execution_count": 5,
     "metadata": {},
     "output_type": "execute_result"
    }
   ],
   "source": [
    "random_company()"
   ]
  },
  {
   "cell_type": "markdown",
   "id": "00620f96",
   "metadata": {},
   "source": [
    "### Задание 2."
   ]
  },
  {
   "cell_type": "code",
   "execution_count": 5,
   "id": "3c7a5a88",
   "metadata": {},
   "outputs": [],
   "source": [
    "import random\n",
    "import string"
   ]
  },
  {
   "cell_type": "code",
   "execution_count": 8,
   "id": "b84179c1",
   "metadata": {},
   "outputs": [],
   "source": [
    "def password(lenght):\n",
    "    x='0123456789'\n",
    "    y=string.ascii_uppercase\n",
    "    z=string.ascii_lowercase\n",
    "    random_x=random.choices(x, k=4)\n",
    "    random_y=random.choices(y, k=3)\n",
    "    random_z=random.choices(z, k=lenght-7)\n",
    "    pswrd=random_x+random_y+random_z\n",
    "    str_var = list(pswrd)\n",
    "    random.shuffle(str_var)\n",
    "    print(''.join(str_var))"
   ]
  },
  {
   "cell_type": "code",
   "execution_count": 9,
   "id": "e216acd1",
   "metadata": {},
   "outputs": [
    {
     "name": "stdout",
     "output_type": "stream",
     "text": [
      "hT74Vl98P\n"
     ]
    }
   ],
   "source": [
    "password(9)"
   ]
  }
 ],
 "metadata": {
  "kernelspec": {
   "display_name": "Python 3",
   "language": "python",
   "name": "python3"
  },
  "language_info": {
   "codemirror_mode": {
    "name": "ipython",
    "version": 3
   },
   "file_extension": ".py",
   "mimetype": "text/x-python",
   "name": "python",
   "nbconvert_exporter": "python",
   "pygments_lexer": "ipython3",
   "version": "3.8.8"
  }
 },
 "nbformat": 4,
 "nbformat_minor": 5
}
